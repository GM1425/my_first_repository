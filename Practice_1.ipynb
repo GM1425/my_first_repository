{
 "cells": [
  {
   "cell_type": "markdown",
   "metadata": {},
   "source": [
    "# Jupyter Practice\n",
    "* The text below this header is an definition to the use of '#' to show different levels of headers in a notebook.\n",
    "## Practicing Markdown Commands\n",
    "* At this level we are practicing use of '#' under the markdown cells also refered as md cells.\n",
    "### Header on how to use '#' for heading sizes\n",
    "* This is the 3rd level of headers and notice the size of the font keeps reducing as we add the '#' before the heading text.\n",
    "#### Upto the 4th level of headers\n",
    "* I would go further, but lets stop at level 4. You catch the drift. When I learn more formatting commands I will for sure update his in the md cells that follow in this Jupyter notebook. "
   ]
  },
  {
   "cell_type": "markdown",
   "metadata": {},
   "source": [
    "## Testing git commands"
   ]
  },
  {
   "cell_type": "markdown",
   "metadata": {},
   "source": [
    "This is an edit to test the git commit -m 'Update the .ipynb file' "
   ]
  },
  {
   "cell_type": "code",
   "execution_count": null,
   "metadata": {},
   "outputs": [],
   "source": []
  }
 ],
 "metadata": {
  "kernelspec": {
   "display_name": "Python 3",
   "language": "python",
   "name": "python3"
  },
  "language_info": {
   "codemirror_mode": {
    "name": "ipython",
    "version": 3
   },
   "file_extension": ".py",
   "mimetype": "text/x-python",
   "name": "python",
   "nbconvert_exporter": "python",
   "pygments_lexer": "ipython3",
   "version": "3.8.5"
  }
 },
 "nbformat": 4,
 "nbformat_minor": 4
}
